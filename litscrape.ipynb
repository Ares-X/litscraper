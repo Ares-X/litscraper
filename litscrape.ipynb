{
 "cells": [
  {
   "cell_type": "code",
   "execution_count": 1,
   "id": "ea63a548",
   "metadata": {},
   "outputs": [],
   "source": [
    "import requests\n",
    "from bs4 import BeautifulSoup"
   ]
  },
  {
   "cell_type": "code",
   "execution_count": 2,
   "id": "5ac9dc56",
   "metadata": {},
   "outputs": [],
   "source": [
    "url= \"https://www.literotica.com/s/oops-sorry-dean-flashes-wife-1\""
   ]
  },
  {
   "cell_type": "code",
   "execution_count": 3,
   "id": "281c4294",
   "metadata": {},
   "outputs": [
    {
     "name": "stdout",
     "output_type": "stream",
     "text": [
      "Type literotica story url \n",
      "url example - https://www.literotica.com/s/oops-sorry-dean-flashes-wife-1 \n",
      "Type URL:https://www.literotica.com/s/oops-sorry-dean-flashes-wife-1\n"
     ]
    }
   ],
   "source": [
    "url = input (\"Type literotica story url \\nurl example - https://www.literotica.com/s/oops-sorry-dean-flashes-wife-1 \\nType URL:\")\n"
   ]
  },
  {
   "cell_type": "code",
   "execution_count": 4,
   "id": "662329db",
   "metadata": {},
   "outputs": [
    {
     "name": "stdout",
     "output_type": "stream",
     "text": [
      "story found\n"
     ]
    }
   ],
   "source": [
    "try:    \n",
    "    storyhtml = requests.get(url,headers={\"User-Agent\" : \"Mozilla/5.0 (X11; Linux x86_64) AppleWebKit/537.36 (KHTML, like Gecko) Chrome/51.0.2704.103 Safari/537.36\"})\n",
    "    print('story found')\n",
    "    soup = BeautifulSoup(storyhtml.content, \"lxml\")\n",
    "except e:\n",
    "    import traceback\n",
    "    traceback.print_exc()\n"
   ]
  },
  {
   "cell_type": "code",
   "execution_count": 5,
   "id": "e6a769ed",
   "metadata": {},
   "outputs": [
    {
     "data": {
      "text/plain": [
       "'oops-sorry-dean-flashes-wife-1.txt'"
      ]
     },
     "execution_count": 5,
     "metadata": {},
     "output_type": "execute_result"
    }
   ],
   "source": [
    "fname= url.split(\"/s/\")[-1] +\".txt\"\n",
    "fname"
   ]
  },
  {
   "cell_type": "code",
   "execution_count": 6,
   "id": "da1fb24c",
   "metadata": {},
   "outputs": [],
   "source": [
    "lastpage=0\n",
    "try:\n",
    "    for pagedesc in soup.select('div[class*=\"panel clearfix\"]'):\n",
    "        x = pagedesc.find_all(\"a\")\n",
    "\n",
    "        for page in x:\n",
    "            lpstr = page.attrs['href']    \n",
    "            if \"page=\" in lpstr:\n",
    "                lastpage = int(lpstr.split(\"page=\")[1])\n",
    "#         print(lastpage)\n",
    "except:\n",
    "    import traceback\n",
    "    traceback.print_exc()"
   ]
  },
  {
   "cell_type": "code",
   "execution_count": 7,
   "id": "1360858b",
   "metadata": {},
   "outputs": [
    {
     "data": {
      "text/plain": [
       "3"
      ]
     },
     "execution_count": 7,
     "metadata": {},
     "output_type": "execute_result"
    }
   ],
   "source": [
    "lastpage"
   ]
  },
  {
   "cell_type": "code",
   "execution_count": 8,
   "id": "84fa1542",
   "metadata": {},
   "outputs": [],
   "source": [
    "pages_to_fetch = []\n",
    "pages_to_fetch.append(url)\n",
    "for p in range(2, lastpage+1):        \n",
    "    if lastpage!=0:\n",
    "        tempurl = url + \"?page=\" + str(p)\n",
    "        pages_to_fetch.append(tempurl)"
   ]
  },
  {
   "cell_type": "code",
   "execution_count": 9,
   "id": "b8894de0",
   "metadata": {},
   "outputs": [
    {
     "data": {
      "text/plain": [
       "['https://www.literotica.com/s/oops-sorry-dean-flashes-wife-1',\n",
       " 'https://www.literotica.com/s/oops-sorry-dean-flashes-wife-1?page=2',\n",
       " 'https://www.literotica.com/s/oops-sorry-dean-flashes-wife-1?page=3']"
      ]
     },
     "execution_count": 9,
     "metadata": {},
     "output_type": "execute_result"
    }
   ],
   "source": [
    "pages_to_fetch"
   ]
  },
  {
   "cell_type": "code",
   "execution_count": 10,
   "id": "70c6dde1",
   "metadata": {},
   "outputs": [],
   "source": [
    "def fetchpage(url):\n",
    "    story = \"ERROR!!!\"\n",
    "    try:       \n",
    "        storyhtml = requests.get(url,headers={\"User-Agent\" : \"Mozilla/5.0 (X11; Linux x86_64) AppleWebKit/537.36 (KHTML, like Gecko) Chrome/51.0.2704.103 Safari/537.36\"})\n",
    "        print('fetching data from: ', url)\n",
    "        soup = BeautifulSoup(storyhtml.content, \"lxml\")\n",
    "        \n",
    "        for storypart in soup.select('div[class*=\"panel article\"]'):\n",
    "            data = storypart.find_all('p')\n",
    "            story = \"\\n\".join([p1.text for p1 in data])\n",
    "    except e:\n",
    "        import traceback\n",
    "        traceback.print_exc()\n",
    "\n",
    "    return story\n",
    "    "
   ]
  },
  {
   "cell_type": "code",
   "execution_count": 17,
   "id": "8fe914a0",
   "metadata": {},
   "outputs": [
    {
     "name": "stdout",
     "output_type": "stream",
     "text": [
      "fetching data from:  https://www.literotica.com/s/oops-sorry-dean-flashes-wife-1\n",
      "fetching data from:  https://www.literotica.com/s/oops-sorry-dean-flashes-wife-1?page=2\n",
      "fetching data from:  https://www.literotica.com/s/oops-sorry-dean-flashes-wife-1?page=3\n"
     ]
    }
   ],
   "source": [
    "import time\n",
    "fullstory = fname.split(\".txt\")[0]\n",
    "for page in pages_to_fetch:\n",
    "    story = fetchpage(page)\n",
    "#     time.sleep(1)\n",
    "    fullstory = fullstory + \"\\n\\nSource:\" + page + \"\\n\\n\" + story + \"\\n\" "
   ]
  },
  {
   "cell_type": "code",
   "execution_count": 18,
   "id": "602d8c03",
   "metadata": {},
   "outputs": [
    {
     "name": "stdout",
     "output_type": "stream",
     "text": [
      "Story exported as : oops-sorry-dean-flashes-wife-1.txt\n"
     ]
    }
   ],
   "source": [
    "with open(fname, 'w') as f:\n",
    "    f.write(fullstory)\n",
    "    print(\"Story exported as :\", fname)"
   ]
  },
  {
   "cell_type": "code",
   "execution_count": null,
   "id": "41739cda",
   "metadata": {},
   "outputs": [],
   "source": []
  }
 ],
 "metadata": {
  "kernelspec": {
   "display_name": "Python 3",
   "language": "python",
   "name": "python3"
  },
  "language_info": {
   "codemirror_mode": {
    "name": "ipython",
    "version": 3
   },
   "file_extension": ".py",
   "mimetype": "text/x-python",
   "name": "python",
   "nbconvert_exporter": "python",
   "pygments_lexer": "ipython3",
   "version": "3.8.8"
  }
 },
 "nbformat": 4,
 "nbformat_minor": 5
}
